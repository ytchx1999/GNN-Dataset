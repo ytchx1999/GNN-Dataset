{
 "cells": [
  {
   "cell_type": "code",
   "execution_count": 1,
   "metadata": {},
   "outputs": [],
   "source": [
    "from torch_geometric.datasets import Planetoid\n",
    "import torch"
   ]
  },
  {
   "cell_type": "markdown",
   "metadata": {},
   "source": [
    "## 1.Cora数据集的处理"
   ]
  },
  {
   "cell_type": "markdown",
   "metadata": {},
   "source": [
    "### 1.1 下载数据集"
   ]
  },
  {
   "cell_type": "code",
   "execution_count": 2,
   "metadata": {},
   "outputs": [
    {
     "name": "stdout",
     "output_type": "stream",
     "text": [
      "Downloading https://github.com/kimiyoung/planetoid/raw/master/data/ind.cora.x\n",
      "Downloading https://github.com/kimiyoung/planetoid/raw/master/data/ind.cora.tx\n",
      "Downloading https://github.com/kimiyoung/planetoid/raw/master/data/ind.cora.allx\n",
      "Downloading https://github.com/kimiyoung/planetoid/raw/master/data/ind.cora.y\n",
      "Downloading https://github.com/kimiyoung/planetoid/raw/master/data/ind.cora.ty\n",
      "Downloading https://github.com/kimiyoung/planetoid/raw/master/data/ind.cora.ally\n",
      "Downloading https://github.com/kimiyoung/planetoid/raw/master/data/ind.cora.graph\n",
      "Downloading https://github.com/kimiyoung/planetoid/raw/master/data/ind.cora.test.index\n",
      "Processing...\n",
      "Done!\n"
     ]
    }
   ],
   "source": [
    "# 下载并保存预处理的数据集\n",
    "dataset_cora = Planetoid(root='./cora/', name='Cora')"
   ]
  },
  {
   "cell_type": "code",
   "execution_count": 3,
   "metadata": {},
   "outputs": [
    {
     "name": "stdout",
     "output_type": "stream",
     "text": [
      "Cora()\n"
     ]
    }
   ],
   "source": [
    "# 打印数据集\n",
    "print(dataset_cora)"
   ]
  },
  {
   "cell_type": "markdown",
   "metadata": {},
   "source": [
    "### 1.2 法一：使用[0]方式从dataset中提取data"
   ]
  },
  {
   "cell_type": "code",
   "execution_count": 16,
   "metadata": {},
   "outputs": [
    {
     "name": "stdout",
     "output_type": "stream",
     "text": [
      "cpu\n"
     ]
    }
   ],
   "source": [
    "device = torch.device('cuda' if torch.cuda.is_available() else 'cpu')\n",
    "print(device)"
   ]
  },
  {
   "cell_type": "code",
   "execution_count": 23,
   "metadata": {},
   "outputs": [
    {
     "name": "stdout",
     "output_type": "stream",
     "text": [
      "7\n",
      "1433\n",
      "1\n",
      "Data(edge_index=[2, 10556], test_mask=[2708], train_mask=[2708], val_mask=[2708], x=[2708, 1433], y=[2708])\n"
     ]
    }
   ],
   "source": [
    "# 提取data，并转换为device格式\n",
    "data_cora = dataset_cora[0].to(device)\n",
    "# 打印dataset的属性\n",
    "print(dataset_cora.num_classes)  # 标签的类别数量\n",
    "print(dataset_cora.num_node_features)  # 节点特征的维度\n",
    "print(len(dataset_cora))  # 数据集图的个数\n",
    "# 打印data\n",
    "print(data_cora)"
   ]
  },
  {
   "cell_type": "markdown",
   "metadata": {},
   "source": [
    "### 1.3 查看data的各项属性"
   ]
  },
  {
   "cell_type": "code",
   "execution_count": 18,
   "metadata": {},
   "outputs": [
    {
     "name": "stdout",
     "output_type": "stream",
     "text": [
      "torch.Size([2708, 1433])\n",
      "torch.Size([2, 10556])\n",
      "torch.Size([2708])\n"
     ]
    }
   ],
   "source": [
    "# 提取各项属性\n",
    "x = data_cora.x  # 节点的特征矩阵[N,input_dim]\n",
    "edge_index = data_cora.edge_index  # 边索引[2,E]\n",
    "y = data_cora.y  # 节点标签数组\n",
    "# 打印形状\n",
    "print(x.shape)\n",
    "print(edge_index.shape)\n",
    "print(y.shape)"
   ]
  },
  {
   "cell_type": "code",
   "execution_count": 19,
   "metadata": {},
   "outputs": [
    {
     "name": "stdout",
     "output_type": "stream",
     "text": [
      "140\n",
      "500\n",
      "1000\n"
     ]
    }
   ],
   "source": [
    "# 提取训练、验证和测试集的mask\n",
    "train_mask = data_cora.train_mask  # 训练mask[N,]\n",
    "val_mask = data_cora.val_mask\n",
    "test_mask = data_cora.test_mask\n",
    "# 打印训练、验证和测试集的数量\n",
    "print(train_mask.sum().item())\n",
    "print(val_mask.sum().item())\n",
    "print(test_mask.sum().item())"
   ]
  },
  {
   "cell_type": "code",
   "execution_count": 20,
   "metadata": {},
   "outputs": [
    {
     "name": "stdout",
     "output_type": "stream",
     "text": [
      "2708\n",
      "10556\n",
      "1433\n"
     ]
    }
   ],
   "source": [
    "print(data_cora.num_nodes)  # 节点数\n",
    "print(data_cora.num_edges)  # 边数\n",
    "print(data_cora.num_node_features)  # 节点特征维度"
   ]
  },
  {
   "cell_type": "code",
   "execution_count": 22,
   "metadata": {},
   "outputs": [
    {
     "name": "stdout",
     "output_type": "stream",
     "text": [
      "False\n",
      "False\n",
      "False\n"
     ]
    }
   ],
   "source": [
    "print(data_cora.is_directed())  # 是否是有向图\n",
    "print(data_cora.contains_isolated_nodes())  # 是否包含孤立节点\n",
    "print(data_cora.contains_self_loops())  # 是否包含self-loop"
   ]
  },
  {
   "cell_type": "markdown",
   "metadata": {},
   "source": [
    "### 1.4 法二：使用DataLoader来载入data"
   ]
  },
  {
   "cell_type": "code",
   "execution_count": 24,
   "metadata": {},
   "outputs": [],
   "source": [
    "from torch_geometric.data import DataLoader"
   ]
  },
  {
   "cell_type": "code",
   "execution_count": 27,
   "metadata": {},
   "outputs": [
    {
     "name": "stdout",
     "output_type": "stream",
     "text": [
      "Batch(batch=[2708], edge_index=[2, 10556], test_mask=[2708], train_mask=[2708], val_mask=[2708], x=[2708, 1433], y=[2708])\n"
     ]
    }
   ],
   "source": [
    "# 使用DataLoader来载入data\n",
    "# 注意，这里的batch_size是图的个数，而不是节点的个数\n",
    "cora_loader = DataLoader(dataset=dataset_cora, batch_size=32, shuffle=True)\n",
    "# minibatch\n",
    "# Cora只有一个图，所以只循环了一次\n",
    "for batch in cora_loader:\n",
    "    print(batch)"
   ]
  },
  {
   "cell_type": "code",
   "execution_count": 28,
   "metadata": {},
   "outputs": [
    {
     "name": "stdout",
     "output_type": "stream",
     "text": [
      "1\n"
     ]
    }
   ],
   "source": [
    "print(batch.num_graphs)  # 图的数量"
   ]
  },
  {
   "cell_type": "markdown",
   "metadata": {},
   "source": [
    "## 2.Citeseer数据集的处理"
   ]
  },
  {
   "cell_type": "code",
   "execution_count": 29,
   "metadata": {},
   "outputs": [
    {
     "name": "stdout",
     "output_type": "stream",
     "text": [
      "Downloading https://github.com/kimiyoung/planetoid/raw/master/data/ind.citeseer.x\n",
      "Downloading https://github.com/kimiyoung/planetoid/raw/master/data/ind.citeseer.tx\n",
      "Downloading https://github.com/kimiyoung/planetoid/raw/master/data/ind.citeseer.allx\n",
      "Downloading https://github.com/kimiyoung/planetoid/raw/master/data/ind.citeseer.y\n",
      "Downloading https://github.com/kimiyoung/planetoid/raw/master/data/ind.citeseer.ty\n",
      "Downloading https://github.com/kimiyoung/planetoid/raw/master/data/ind.citeseer.ally\n",
      "Downloading https://github.com/kimiyoung/planetoid/raw/master/data/ind.citeseer.graph\n",
      "Downloading https://github.com/kimiyoung/planetoid/raw/master/data/ind.citeseer.test.index\n",
      "Processing...\n",
      "Done!\n"
     ]
    }
   ],
   "source": [
    "dataset_citeseer = Planetoid(root='./citeseer/',name='Citeseer')"
   ]
  },
  {
   "cell_type": "markdown",
   "metadata": {},
   "source": [
    "### 其他操作同上面的Cora数据集"
   ]
  },
  {
   "cell_type": "code",
   "execution_count": 30,
   "metadata": {},
   "outputs": [
    {
     "name": "stdout",
     "output_type": "stream",
     "text": [
      "Citeseer()\n"
     ]
    }
   ],
   "source": [
    "print(dataset_citeseer)"
   ]
  },
  {
   "cell_type": "code",
   "execution_count": 31,
   "metadata": {},
   "outputs": [
    {
     "name": "stdout",
     "output_type": "stream",
     "text": [
      "6\n",
      "3703\n",
      "1\n",
      "Data(edge_index=[2, 9104], test_mask=[3327], train_mask=[3327], val_mask=[3327], x=[3327, 3703], y=[3327])\n"
     ]
    }
   ],
   "source": [
    "data_citeseer = dataset_citeseer[0].to(device)\n",
    "print(dataset_citeseer.num_classes)\n",
    "print(dataset_citeseer.num_node_features)\n",
    "print(len(dataset_citeseer))\n",
    "print(data_citeseer)"
   ]
  },
  {
   "cell_type": "code",
   "execution_count": 32,
   "metadata": {},
   "outputs": [
    {
     "name": "stdout",
     "output_type": "stream",
     "text": [
      "torch.Size([3327, 3703])\n",
      "torch.Size([2, 9104])\n",
      "torch.Size([3327])\n"
     ]
    }
   ],
   "source": [
    "x = data_citeseer.x  \n",
    "edge_index = data_citeseer.edge_index \n",
    "y = data_citeseer.y  \n",
    "print(x.shape)\n",
    "print(edge_index.shape)\n",
    "print(y.shape)"
   ]
  },
  {
   "cell_type": "code",
   "execution_count": 33,
   "metadata": {},
   "outputs": [
    {
     "name": "stdout",
     "output_type": "stream",
     "text": [
      "120\n",
      "500\n",
      "1000\n"
     ]
    }
   ],
   "source": [
    "train_mask = data_citeseer.train_mask \n",
    "val_mask = data_citeseer.val_mask\n",
    "test_mask = data_citeseer.test_mask\n",
    "print(train_mask.sum().item())\n",
    "print(val_mask.sum().item())\n",
    "print(test_mask.sum().item())"
   ]
  },
  {
   "cell_type": "code",
   "execution_count": 34,
   "metadata": {},
   "outputs": [
    {
     "name": "stdout",
     "output_type": "stream",
     "text": [
      "3327\n",
      "9104\n",
      "3703\n"
     ]
    }
   ],
   "source": [
    "print(data_citeseer.num_nodes)  \n",
    "print(data_citeseer.num_edges) \n",
    "print(data_citeseer.num_node_features)  "
   ]
  },
  {
   "cell_type": "code",
   "execution_count": 36,
   "metadata": {},
   "outputs": [
    {
     "name": "stdout",
     "output_type": "stream",
     "text": [
      "False\n",
      "True\n",
      "False\n"
     ]
    }
   ],
   "source": [
    "print(data_citeseer.is_directed())  \n",
    "print(data_citeseer.contains_isolated_nodes())  # 是否包含孤立节点:Citeseer有孤立节点！！！\n",
    "print(data_citeseer.contains_self_loops())  "
   ]
  },
  {
   "cell_type": "markdown",
   "metadata": {},
   "source": [
    "## 3.Pubmed数据集的处理"
   ]
  },
  {
   "cell_type": "code",
   "execution_count": 37,
   "metadata": {},
   "outputs": [
    {
     "name": "stdout",
     "output_type": "stream",
     "text": [
      "Downloading https://github.com/kimiyoung/planetoid/raw/master/data/ind.pubmed.x\n",
      "Downloading https://github.com/kimiyoung/planetoid/raw/master/data/ind.pubmed.tx\n",
      "Downloading https://github.com/kimiyoung/planetoid/raw/master/data/ind.pubmed.allx\n",
      "Downloading https://github.com/kimiyoung/planetoid/raw/master/data/ind.pubmed.y\n",
      "Downloading https://github.com/kimiyoung/planetoid/raw/master/data/ind.pubmed.ty\n",
      "Downloading https://github.com/kimiyoung/planetoid/raw/master/data/ind.pubmed.ally\n",
      "Downloading https://github.com/kimiyoung/planetoid/raw/master/data/ind.pubmed.graph\n",
      "Downloading https://github.com/kimiyoung/planetoid/raw/master/data/ind.pubmed.test.index\n",
      "Processing...\n",
      "Done!\n"
     ]
    }
   ],
   "source": [
    "dataset_pubmed = Planetoid(root='./pubmed/',name='Pubmed')"
   ]
  },
  {
   "cell_type": "markdown",
   "metadata": {},
   "source": [
    "### 其他操作同上面的Cora数据集"
   ]
  },
  {
   "cell_type": "code",
   "execution_count": 38,
   "metadata": {},
   "outputs": [
    {
     "name": "stdout",
     "output_type": "stream",
     "text": [
      "3\n",
      "500\n",
      "1\n",
      "Data(edge_index=[2, 88648], test_mask=[19717], train_mask=[19717], val_mask=[19717], x=[19717, 500], y=[19717])\n"
     ]
    }
   ],
   "source": [
    "data_pubmed = dataset_pubmed[0].to(device)\n",
    "print(dataset_pubmed.num_classes)\n",
    "print(dataset_pubmed.num_node_features)\n",
    "print(len(dataset_pubmed))\n",
    "print(data_pubmed)"
   ]
  },
  {
   "cell_type": "code",
   "execution_count": 39,
   "metadata": {},
   "outputs": [
    {
     "name": "stdout",
     "output_type": "stream",
     "text": [
      "torch.Size([19717, 500])\n",
      "torch.Size([2, 88648])\n",
      "torch.Size([19717])\n"
     ]
    }
   ],
   "source": [
    "x = data_pubmed.x  \n",
    "edge_index = data_pubmed.edge_index \n",
    "y = data_pubmed.y  \n",
    "print(x.shape)\n",
    "print(edge_index.shape)\n",
    "print(y.shape)"
   ]
  },
  {
   "cell_type": "code",
   "execution_count": 40,
   "metadata": {},
   "outputs": [
    {
     "name": "stdout",
     "output_type": "stream",
     "text": [
      "60\n",
      "500\n",
      "1000\n"
     ]
    }
   ],
   "source": [
    "train_mask = data_pubmed.train_mask \n",
    "val_mask = data_pubmed.val_mask\n",
    "test_mask = data_pubmed.test_mask\n",
    "print(train_mask.sum().item())\n",
    "print(val_mask.sum().item())\n",
    "print(test_mask.sum().item())"
   ]
  },
  {
   "cell_type": "code",
   "execution_count": 41,
   "metadata": {},
   "outputs": [
    {
     "name": "stdout",
     "output_type": "stream",
     "text": [
      "19717\n",
      "88648\n",
      "500\n"
     ]
    }
   ],
   "source": [
    "print(data_pubmed.num_nodes)  \n",
    "print(data_pubmed.num_edges) \n",
    "print(data_pubmed.num_node_features) "
   ]
  },
  {
   "cell_type": "code",
   "execution_count": 42,
   "metadata": {},
   "outputs": [
    {
     "name": "stdout",
     "output_type": "stream",
     "text": [
      "False\n",
      "False\n",
      "False\n"
     ]
    }
   ],
   "source": [
    "print(data_pubmed.is_directed())  \n",
    "print(data_pubmed.contains_isolated_nodes())  \n",
    "print(data_pubmed.contains_self_loops()) "
   ]
  },
  {
   "cell_type": "code",
   "execution_count": null,
   "metadata": {},
   "outputs": [],
   "source": []
  }
 ],
 "metadata": {
  "kernelspec": {
   "display_name": "env_pyg",
   "language": "python",
   "name": "env_pyg"
  },
  "language_info": {
   "codemirror_mode": {
    "name": "ipython",
    "version": 3
   },
   "file_extension": ".py",
   "mimetype": "text/x-python",
   "name": "python",
   "nbconvert_exporter": "python",
   "pygments_lexer": "ipython3",
   "version": "3.7.9"
  }
 },
 "nbformat": 4,
 "nbformat_minor": 4
}
